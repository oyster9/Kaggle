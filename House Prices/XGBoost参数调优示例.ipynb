{
 "cells": [
  {
   "cell_type": "markdown",
   "metadata": {
    "deletable": true,
    "editable": true
   },
   "source": [
    "XGBoost参数调优示例\n",
    "==========\n",
    "参考网友翻译好的指南[链接](https://www.cnblogs.com/mfryf/p/6293814.html)，和另一个实例[House Price](https://github.com/ptiwaree/Kaggle-House-Prices/blob/master/Modeling/House%20Prices%20-%20Boosting-3.ipynb)"
   ]
  },
  {
   "cell_type": "code",
   "execution_count": 14,
   "metadata": {
    "collapsed": false,
    "deletable": true,
    "editable": true
   },
   "outputs": [],
   "source": [
    "#导入必要的库\n",
    "import pandas as pd\n",
    "import numpy as np\n",
    "import xgboost as xgb\n",
    "import seaborn as sns\n",
    "import matplotlib\n",
    "import matplotlib.pyplot as plt\n",
    "\n",
    "from scipy.stats import norm\n",
    "from scipy import stats\n",
    "\n",
    "import xgboost as xgb\n",
    "from sklearn import  metrics\n",
    "from sklearn.grid_search import GridSearchCV\n",
    "from sklearn.model_selection import cross_val_score\n",
    "\n",
    "%matplotlib inline"
   ]
  },
  {
   "cell_type": "code",
   "execution_count": 10,
   "metadata": {
    "collapsed": false,
    "deletable": true,
    "editable": true
   },
   "outputs": [],
   "source": [
    "#载入数据(数据是已经经过特征工程处理的数据)\n",
    "train = pd.read_csv(\"processed_train.csv\")\n",
    "test = pd.read_csv(\"processed_test.csv\")\n"
   ]
  },
  {
   "cell_type": "code",
   "execution_count": 11,
   "metadata": {
    "collapsed": false,
    "deletable": true,
    "editable": true,
    "scrolled": true
   },
   "outputs": [
    {
     "data": {
      "text/html": [
       "<div>\n",
       "<style>\n",
       "    .dataframe thead tr:only-child th {\n",
       "        text-align: right;\n",
       "    }\n",
       "\n",
       "    .dataframe thead th {\n",
       "        text-align: left;\n",
       "    }\n",
       "\n",
       "    .dataframe tbody tr th {\n",
       "        vertical-align: top;\n",
       "    }\n",
       "</style>\n",
       "<table border=\"1\" class=\"dataframe\">\n",
       "  <thead>\n",
       "    <tr style=\"text-align: right;\">\n",
       "      <th></th>\n",
       "      <th>Unnamed: 0</th>\n",
       "      <th>MSSubClass</th>\n",
       "      <th>LotFrontage</th>\n",
       "      <th>LotArea</th>\n",
       "      <th>OverallQual</th>\n",
       "      <th>OverallCond</th>\n",
       "      <th>YearBuilt</th>\n",
       "      <th>YearRemodAdd</th>\n",
       "      <th>MasVnrArea</th>\n",
       "      <th>BsmtFinSF1</th>\n",
       "      <th>...</th>\n",
       "      <th>SaleType_New</th>\n",
       "      <th>SaleType_Oth</th>\n",
       "      <th>SaleType_WD</th>\n",
       "      <th>SaleCondition_Abnorml</th>\n",
       "      <th>SaleCondition_AdjLand</th>\n",
       "      <th>SaleCondition_Alloca</th>\n",
       "      <th>SaleCondition_Family</th>\n",
       "      <th>SaleCondition_Normal</th>\n",
       "      <th>SaleCondition_Partial</th>\n",
       "      <th>SalePrice</th>\n",
       "    </tr>\n",
       "  </thead>\n",
       "  <tbody>\n",
       "    <tr>\n",
       "      <th>0</th>\n",
       "      <td>0</td>\n",
       "      <td>4.110874</td>\n",
       "      <td>4.189655</td>\n",
       "      <td>9.042040</td>\n",
       "      <td>7</td>\n",
       "      <td>5</td>\n",
       "      <td>2003</td>\n",
       "      <td>2003</td>\n",
       "      <td>5.283204</td>\n",
       "      <td>6.561031</td>\n",
       "      <td>...</td>\n",
       "      <td>0</td>\n",
       "      <td>0</td>\n",
       "      <td>1</td>\n",
       "      <td>0</td>\n",
       "      <td>0</td>\n",
       "      <td>0</td>\n",
       "      <td>0</td>\n",
       "      <td>1</td>\n",
       "      <td>0</td>\n",
       "      <td>12.247699</td>\n",
       "    </tr>\n",
       "    <tr>\n",
       "      <th>1</th>\n",
       "      <td>1</td>\n",
       "      <td>3.044522</td>\n",
       "      <td>4.394449</td>\n",
       "      <td>9.169623</td>\n",
       "      <td>6</td>\n",
       "      <td>8</td>\n",
       "      <td>1976</td>\n",
       "      <td>1976</td>\n",
       "      <td>0.000000</td>\n",
       "      <td>6.886532</td>\n",
       "      <td>...</td>\n",
       "      <td>0</td>\n",
       "      <td>0</td>\n",
       "      <td>1</td>\n",
       "      <td>0</td>\n",
       "      <td>0</td>\n",
       "      <td>0</td>\n",
       "      <td>0</td>\n",
       "      <td>1</td>\n",
       "      <td>0</td>\n",
       "      <td>12.109016</td>\n",
       "    </tr>\n",
       "    <tr>\n",
       "      <th>2</th>\n",
       "      <td>2</td>\n",
       "      <td>4.110874</td>\n",
       "      <td>4.234107</td>\n",
       "      <td>9.328212</td>\n",
       "      <td>7</td>\n",
       "      <td>5</td>\n",
       "      <td>2001</td>\n",
       "      <td>2002</td>\n",
       "      <td>5.093750</td>\n",
       "      <td>6.188264</td>\n",
       "      <td>...</td>\n",
       "      <td>0</td>\n",
       "      <td>0</td>\n",
       "      <td>1</td>\n",
       "      <td>0</td>\n",
       "      <td>0</td>\n",
       "      <td>0</td>\n",
       "      <td>0</td>\n",
       "      <td>1</td>\n",
       "      <td>0</td>\n",
       "      <td>12.317171</td>\n",
       "    </tr>\n",
       "    <tr>\n",
       "      <th>3</th>\n",
       "      <td>3</td>\n",
       "      <td>4.262680</td>\n",
       "      <td>4.110874</td>\n",
       "      <td>9.164401</td>\n",
       "      <td>7</td>\n",
       "      <td>5</td>\n",
       "      <td>1915</td>\n",
       "      <td>1970</td>\n",
       "      <td>0.000000</td>\n",
       "      <td>5.379897</td>\n",
       "      <td>...</td>\n",
       "      <td>0</td>\n",
       "      <td>0</td>\n",
       "      <td>1</td>\n",
       "      <td>1</td>\n",
       "      <td>0</td>\n",
       "      <td>0</td>\n",
       "      <td>0</td>\n",
       "      <td>0</td>\n",
       "      <td>0</td>\n",
       "      <td>11.849405</td>\n",
       "    </tr>\n",
       "    <tr>\n",
       "      <th>4</th>\n",
       "      <td>4</td>\n",
       "      <td>4.110874</td>\n",
       "      <td>4.442651</td>\n",
       "      <td>9.565284</td>\n",
       "      <td>8</td>\n",
       "      <td>5</td>\n",
       "      <td>2000</td>\n",
       "      <td>2000</td>\n",
       "      <td>5.860786</td>\n",
       "      <td>6.486161</td>\n",
       "      <td>...</td>\n",
       "      <td>0</td>\n",
       "      <td>0</td>\n",
       "      <td>1</td>\n",
       "      <td>0</td>\n",
       "      <td>0</td>\n",
       "      <td>0</td>\n",
       "      <td>0</td>\n",
       "      <td>1</td>\n",
       "      <td>0</td>\n",
       "      <td>12.429220</td>\n",
       "    </tr>\n",
       "  </tbody>\n",
       "</table>\n",
       "<p>5 rows × 290 columns</p>\n",
       "</div>"
      ],
      "text/plain": [
       "   Unnamed: 0  MSSubClass  LotFrontage   LotArea  OverallQual  OverallCond  \\\n",
       "0           0    4.110874     4.189655  9.042040            7            5   \n",
       "1           1    3.044522     4.394449  9.169623            6            8   \n",
       "2           2    4.110874     4.234107  9.328212            7            5   \n",
       "3           3    4.262680     4.110874  9.164401            7            5   \n",
       "4           4    4.110874     4.442651  9.565284            8            5   \n",
       "\n",
       "   YearBuilt  YearRemodAdd  MasVnrArea  BsmtFinSF1    ...      SaleType_New  \\\n",
       "0       2003          2003    5.283204    6.561031    ...                 0   \n",
       "1       1976          1976    0.000000    6.886532    ...                 0   \n",
       "2       2001          2002    5.093750    6.188264    ...                 0   \n",
       "3       1915          1970    0.000000    5.379897    ...                 0   \n",
       "4       2000          2000    5.860786    6.486161    ...                 0   \n",
       "\n",
       "   SaleType_Oth  SaleType_WD  SaleCondition_Abnorml  SaleCondition_AdjLand  \\\n",
       "0             0            1                      0                      0   \n",
       "1             0            1                      0                      0   \n",
       "2             0            1                      0                      0   \n",
       "3             0            1                      1                      0   \n",
       "4             0            1                      0                      0   \n",
       "\n",
       "   SaleCondition_Alloca  SaleCondition_Family  SaleCondition_Normal  \\\n",
       "0                     0                     0                     1   \n",
       "1                     0                     0                     1   \n",
       "2                     0                     0                     1   \n",
       "3                     0                     0                     0   \n",
       "4                     0                     0                     1   \n",
       "\n",
       "   SaleCondition_Partial  SalePrice  \n",
       "0                      0  12.247699  \n",
       "1                      0  12.109016  \n",
       "2                      0  12.317171  \n",
       "3                      0  11.849405  \n",
       "4                      0  12.429220  \n",
       "\n",
       "[5 rows x 290 columns]"
      ]
     },
     "execution_count": 11,
     "metadata": {},
     "output_type": "execute_result"
    }
   ],
   "source": [
    "train.head()"
   ]
  },
  {
   "cell_type": "code",
   "execution_count": 18,
   "metadata": {
    "collapsed": false,
    "deletable": true,
    "editable": true
   },
   "outputs": [
    {
     "data": {
      "text/plain": [
       "count    1460.000000\n",
       "mean       12.024057\n",
       "std         0.399449\n",
       "min        10.460271\n",
       "25%        11.775105\n",
       "50%        12.001512\n",
       "75%        12.273736\n",
       "max        13.534474\n",
       "Name: SalePrice, dtype: float64"
      ]
     },
     "execution_count": 18,
     "metadata": {},
     "output_type": "execute_result"
    }
   ],
   "source": [
    "#将train分离出“特征”X_train和最终的“目标”SalePrice\n",
    "X_train = train.loc[:,'MSSubClass':'SaleCondition_Partial']\n",
    "y = train.loc[:,'SalePrice']\n",
    "#y.describe()"
   ]
  },
  {
   "cell_type": "code",
   "execution_count": 22,
   "metadata": {
    "collapsed": false
   },
   "outputs": [
    {
     "data": {
      "text/html": [
       "<div>\n",
       "<style>\n",
       "    .dataframe thead tr:only-child th {\n",
       "        text-align: right;\n",
       "    }\n",
       "\n",
       "    .dataframe thead th {\n",
       "        text-align: left;\n",
       "    }\n",
       "\n",
       "    .dataframe tbody tr th {\n",
       "        vertical-align: top;\n",
       "    }\n",
       "</style>\n",
       "<table border=\"1\" class=\"dataframe\">\n",
       "  <thead>\n",
       "    <tr style=\"text-align: right;\">\n",
       "      <th></th>\n",
       "      <th>MSSubClass</th>\n",
       "      <th>LotFrontage</th>\n",
       "      <th>LotArea</th>\n",
       "      <th>OverallQual</th>\n",
       "      <th>OverallCond</th>\n",
       "      <th>YearBuilt</th>\n",
       "      <th>YearRemodAdd</th>\n",
       "      <th>MasVnrArea</th>\n",
       "      <th>BsmtFinSF1</th>\n",
       "      <th>BsmtFinSF2</th>\n",
       "      <th>...</th>\n",
       "      <th>SaleType_ConLw</th>\n",
       "      <th>SaleType_New</th>\n",
       "      <th>SaleType_Oth</th>\n",
       "      <th>SaleType_WD</th>\n",
       "      <th>SaleCondition_Abnorml</th>\n",
       "      <th>SaleCondition_AdjLand</th>\n",
       "      <th>SaleCondition_Alloca</th>\n",
       "      <th>SaleCondition_Family</th>\n",
       "      <th>SaleCondition_Normal</th>\n",
       "      <th>SaleCondition_Partial</th>\n",
       "    </tr>\n",
       "  </thead>\n",
       "  <tbody>\n",
       "    <tr>\n",
       "      <th>0</th>\n",
       "      <td>3.044522</td>\n",
       "      <td>4.394449</td>\n",
       "      <td>9.360741</td>\n",
       "      <td>5</td>\n",
       "      <td>6</td>\n",
       "      <td>1961</td>\n",
       "      <td>1961</td>\n",
       "      <td>0.000000</td>\n",
       "      <td>6.150603</td>\n",
       "      <td>4.976734</td>\n",
       "      <td>...</td>\n",
       "      <td>0</td>\n",
       "      <td>0</td>\n",
       "      <td>0</td>\n",
       "      <td>1</td>\n",
       "      <td>0</td>\n",
       "      <td>0</td>\n",
       "      <td>0</td>\n",
       "      <td>0</td>\n",
       "      <td>1</td>\n",
       "      <td>0</td>\n",
       "    </tr>\n",
       "    <tr>\n",
       "      <th>1</th>\n",
       "      <td>3.044522</td>\n",
       "      <td>4.406719</td>\n",
       "      <td>9.565775</td>\n",
       "      <td>6</td>\n",
       "      <td>6</td>\n",
       "      <td>1958</td>\n",
       "      <td>1958</td>\n",
       "      <td>4.691348</td>\n",
       "      <td>6.828712</td>\n",
       "      <td>0.000000</td>\n",
       "      <td>...</td>\n",
       "      <td>0</td>\n",
       "      <td>0</td>\n",
       "      <td>0</td>\n",
       "      <td>1</td>\n",
       "      <td>0</td>\n",
       "      <td>0</td>\n",
       "      <td>0</td>\n",
       "      <td>0</td>\n",
       "      <td>1</td>\n",
       "      <td>0</td>\n",
       "    </tr>\n",
       "  </tbody>\n",
       "</table>\n",
       "<p>2 rows × 288 columns</p>\n",
       "</div>"
      ],
      "text/plain": [
       "   MSSubClass  LotFrontage   LotArea  OverallQual  OverallCond  YearBuilt  \\\n",
       "0    3.044522     4.394449  9.360741            5            6       1961   \n",
       "1    3.044522     4.406719  9.565775            6            6       1958   \n",
       "\n",
       "   YearRemodAdd  MasVnrArea  BsmtFinSF1  BsmtFinSF2          ...            \\\n",
       "0          1961    0.000000    6.150603    4.976734          ...             \n",
       "1          1958    4.691348    6.828712    0.000000          ...             \n",
       "\n",
       "   SaleType_ConLw  SaleType_New  SaleType_Oth  SaleType_WD  \\\n",
       "0               0             0             0            1   \n",
       "1               0             0             0            1   \n",
       "\n",
       "   SaleCondition_Abnorml  SaleCondition_AdjLand  SaleCondition_Alloca  \\\n",
       "0                      0                      0                     0   \n",
       "1                      0                      0                     0   \n",
       "\n",
       "   SaleCondition_Family  SaleCondition_Normal  SaleCondition_Partial  \n",
       "0                     0                     1                      0  \n",
       "1                     0                     1                      0  \n",
       "\n",
       "[2 rows x 288 columns]"
      ]
     },
     "execution_count": 22,
     "metadata": {},
     "output_type": "execute_result"
    }
   ],
   "source": [
    "test.head()\n",
    "test.drop('Unnamed: 0', axis=1, inplace=True)\n",
    "test.head(2)"
   ]
  },
  {
   "cell_type": "code",
   "execution_count": 23,
   "metadata": {
    "collapsed": false
   },
   "outputs": [
    {
     "data": {
      "text/plain": [
       "((1460, 288), (1460,), (1459, 288))"
      ]
     },
     "execution_count": 23,
     "metadata": {},
     "output_type": "execute_result"
    }
   ],
   "source": [
    "X_train.shape, y.shape, test.shape"
   ]
  },
  {
   "cell_type": "markdown",
   "metadata": {
    "deletable": true,
    "editable": true
   },
   "source": [
    "### 建立一个函数来帮助找到合适的models,并进行交叉验证\n",
    "#### Function to fit model and do Cross Validation for error calculation"
   ]
  },
  {
   "cell_type": "code",
   "execution_count": 39,
   "metadata": {
    "collapsed": false,
    "deletable": true,
    "editable": true
   },
   "outputs": [],
   "source": [
    "def modelfit(model, dtrain, features, output, performCV=True, printFeatureImportance=True, cv_folds=5, early_stopping_rounds=50):\n",
    "    #Perform cross-validation\n",
    "    if performCV:\n",
    "        cv_score = cross_val_score(model, dtrain[features], output, cv=cv_folds)\n",
    "        \n",
    "    #fit the algorithm on the data\n",
    "    model.fit(dtrain[features], output, eval_metric='auc')\n",
    "    \n",
    "    #Predicr the training set\n",
    "    dtrain_predictions = model.predict(dtrain[features])\n",
    "    #dtrain_predprob = model.predict_proba(dtrain[features])[:,1]\n",
    "    \n",
    "    #Print the model report\n",
    "    print(\"\\nModel Report\")\n",
    "    print(\"R-Square: %.5f\"%metrics.r2_score(output, dtrain_predictions))\n",
    "    print(\"rmse: %.5f\" % np.sqrt(metrics.mean_squared_error(output, dtrain_predictions)))\n",
    "    #print(\"cv_score: \", cv_score)\n",
    "    \n",
    "    if performCV:\n",
    "        print(\"CV_Score: Mean: %.7g | Std: %.7g | Min: %.7g | Max: %.7g\" % (np.mean(cv_score),np.std(cv_score),\n",
    "                                                                 np.min(cv_score),np.max(cv_score)))\n",
    "    #Print feature importance\n",
    "    if printFeatureImportance:\n",
    "        feat_imp = pd.Series(model.feature_importances_[0:30], features[0:30]).sort_values(ascending=False)\n",
    "        feat_imp.plot(kind=\"bar\", title=\"Top 30 Feature Importances\")\n",
    "        plt.ylabel(\"Features Importance Score\")\n",
    "    \n",
    "    \n",
    "    "
   ]
  },
  {
   "cell_type": "code",
   "execution_count": 40,
   "metadata": {
    "collapsed": false
   },
   "outputs": [
    {
     "name": "stdout",
     "output_type": "stream",
     "text": [
      "(1460, 288) (1460,)\n",
      "\n",
      "Model Report\n",
      "R-Square: 0.95297\n",
      "rmse: 0.08660\n",
      "CV_Score: Mean: 0.8920431 | Std: 0.01035349 | Min: 0.8822041 | Max: 0.9100239\n"
     ]
    },
    {
     "data": {
      "image/png": "[encoded data removed]",
      "text/plain": [
       "<matplotlib.figure.Figure at 0x1b5ec160>"
      ]
     },
     "metadata": {},
     "output_type": "display_data"
    }
   ],
   "source": [
    "#先看看没有进行调参的模型结果\n",
    "features = X_train.columns\n",
    "print(X_train[features].shape, y.shape)\n",
    "model_xgb = xgb.XGBRegressor() #the params were tuned using xgb.cv\n",
    "matplotlib.rcParams['figure.figsize'] = (12,8)\n",
    "modelfit(model_xgb, X_train, features, y)"
   ]
  },
  {
   "cell_type": "markdown",
   "metadata": {},
   "source": [
    "# `调优--Parameter Tuning`\n",
    "### xgboost.XGBRegressor()主要参数介绍：\n",
    "* **booster[默认gbtree]**  \n",
    "    * 选择每次迭代的模型，有两种:\n",
    "     * gbtree：基于树的模型\n",
    "     * gbliner：线性模型\n",
    "\n",
    "    \n",
    "* **learning_rate[默认0.1]:**学习率 \n",
    "       \n",
    "       \n",
    "* **max_depth[默认3]**\n",
    "    * 树的最大深度，用来避免过拟合。max_depth越大模型会学到根具体更局部的特征。__需要调优__\n",
    "\n",
    "\n",
    "* **gamma[默认0]**\n",
    "    * 在节点分裂时只有分裂后损失函数的值下降了才会分裂这个节点。\n",
    "    * gamma指定了节点分裂所需的最小损失函数下降值，gamma值越大算法越保守\n",
    "    \n",
    "    \n",
    "* **subsample[默认1]**\n",
    "    * 训练每棵树时用来训练的数据占全部的比例（随机采样比例）。用于防止 Overfitting。\n",
    "    * 减少这个参数值，算法会变得保守，避免过拟合；如果设置过小会导致欠拟合。（典型值0.5-1）\n",
    "    \n",
    "\n",
    "* **colsample_bytree[默认1]**\n",
    "    * 控制每棵随机采样的列数的占比（即，训练每棵树时用来训练的特征的比例）。类似 RandomForestClassifier 的 max_features\n",
    "    \n",
    "    \n",
    "* **min_child_weight[默认1]**  \n",
    "    * 决定最小叶子节点样本权重和。 和GBM的 min_child_leaf 参数类似，但不完全一样。XGBoost的这个参数是最小样本权重的和，而GBM参数是最小样本总数。\n",
    "    *  这个参数用于避免过拟合。当它的值较大时，可以避免模型学习到局部的特殊样本。 但是如果这个值过高，会导致欠拟合。这个参数需要使用CV来调整。\n",
    "    \n",
    "    \n",
    "* **max_delta_step[默认0]**\n",
    "    * 用来限制每棵树权重改变的最大步长，值为0表示没有约束\n",
    "    \n",
    "    \n",
    "* **objective[默认reg:linear]** \n",
    "    * 这个参数定义需要被最小化的损失函数。最常用的值有：binary:logistic 二分类的逻辑回归，返回预测的概率(不是类别)。 multi:softmax 使用softmax的多分类器，返回预测的类别(不是概率)。\n",
    "    \n",
    "    \n",
    "* **reg_lambda**\n",
    "    * 权重的L2正则化项\n",
    "    \n",
    "    \n",
    "* **reg_alpha**\n",
    "    * 权重的L1正则化项\n",
    "    \n",
    "\n",
    "* **silent[默认值True]**\n",
    "    * 当为True时静默模式开启，不会输出任何信息。\n",
    "    \n",
    "\n",
    "* **n_estimators**\n",
    "    * 决策树的数量，对模型效果重要，需要调优。\n",
    "\n",
    "\n",
    "* **scale_pos_weight[默认1]**\n",
    "    * 在各类别样本十分不平衡时，参数设定为正值，可以使算法更快收敛"
   ]
  },
  {
   "cell_type": "markdown",
   "metadata": {},
   "source": [
    "### 第一步，确定学习速率和tree_based 参数调优的估计器数目\n",
    "先确定一个学习率（一般设置为0.1），选择对应于此学习速率的理想决策树数量。XGBoost有一个很有用的函数“cv”，这个函数可以在每一次迭代中使用交叉验证，并返回理想的决策树数量     \n",
    "先给其他参数设置一个初始值：   \n",
    "* max_depth = 4 : 这个参数的取值最好在3-10之间\n",
    "* gamma = 0 :\n",
    "* subsample = 0.8 :\n",
    "* colsample_bytree = 0.8 : \n",
    "* min_child_weight = 1 : 因为这是一个不平衡的问题，某些叶子节点的值会比较小\n",
    "* scale_pos_weight = 1 : 类别不平衡，设置为正值"
   ]
  },
  {
   "cell_type": "code",
   "execution_count": 52,
   "metadata": {
    "collapsed": false
   },
   "outputs": [],
   "source": [
    "xgb1 = xgb.XGBRegressor(\n",
    "        learning_rate=0.1,\n",
    "        n_estimators=1000,\n",
    "        max_depth=4,\n",
    "        min_child_weight=1,\n",
    "        gamma=0,\n",
    "        subsample=0.8,\n",
    "        colsample_bytree=0.8\n",
    "        )\n",
    "param_test1 = {'n_estimators':list(range(20,501,10))}\n",
    "\n",
    "gsearch1 = GridSearchCV(estimator=xgb.XGBRegressor( learning_rate=0.1,\n",
    "        n_estimators=1000,\n",
    "        max_depth=4,\n",
    "        min_child_weight=1,\n",
    "        gamma=0,\n",
    "        subsample=0.8,\n",
    "        colsample_bytree=0.8), \n",
    "        param_grid=param_test1, iid=False,cv=5)"
   ]
  },
  {
   "cell_type": "code",
   "execution_count": 53,
   "metadata": {
    "collapsed": false
   },
   "outputs": [
    {
     "data": {
      "text/plain": [
       "GridSearchCV(cv=5, error_score='raise',\n",
       "       estimator=XGBRegressor(base_score=0.5, booster='gbtree', colsample_bylevel=1,\n",
       "       colsample_bytree=0.8, gamma=0, learning_rate=0.1, max_delta_step=0,\n",
       "       max_depth=4, min_child_weight=1, missing=None, n_estimators=1000,\n",
       "       n_jobs=1, nthread=None, objective='reg:linear', random_state=0,\n",
       "       reg_alpha=0, reg_lambda=1, scale_pos_weight=1, seed=None,\n",
       "       silent=True, subsample=0.8),\n",
       "       fit_params={}, iid=False, n_jobs=1,\n",
       "       param_grid={'n_estimators': [20, 30, 40, 50, 60, 70, 80, 90, 100, 110, 120, 130, 140, 150, 160, 170, 180, 190, 200, 210, 220, 230, 240, 250, 260, 270, 280, 290, 300, 310, 320, 330, 340, 350, 360, 370, 380, 390, 400, 410, 420, 430, 440, 450, 460, 470, 480, 490, 500]},\n",
       "       pre_dispatch='2*n_jobs', refit=True, scoring=None, verbose=0)"
      ]
     },
     "execution_count": 53,
     "metadata": {},
     "output_type": "execute_result"
    }
   ],
   "source": [
    "gsearch1.fit(X_train[features], y)"
   ]
  },
  {
   "cell_type": "code",
   "execution_count": 54,
   "metadata": {
    "collapsed": false
   },
   "outputs": [
    {
     "data": {
      "text/plain": [
       "([mean: -11.87809, std: 0.93095, params: {'n_estimators': 20},\n",
       "  mean: -0.73260, std: 0.12630, params: {'n_estimators': 30},\n",
       "  mean: 0.66726, std: 0.02843, params: {'n_estimators': 40},\n",
       "  mean: 0.84987, std: 0.00952, params: {'n_estimators': 50},\n",
       "  mean: 0.87743, std: 0.00613, params: {'n_estimators': 60},\n",
       "  mean: 0.88438, std: 0.00719, params: {'n_estimators': 70},\n",
       "  mean: 0.88779, std: 0.00831, params: {'n_estimators': 80},\n",
       "  mean: 0.89058, std: 0.00867, params: {'n_estimators': 90},\n",
       "  mean: 0.89239, std: 0.00936, params: {'n_estimators': 100},\n",
       "  mean: 0.89312, std: 0.00978, params: {'n_estimators': 110},\n",
       "  mean: 0.89435, std: 0.00935, params: {'n_estimators': 120},\n",
       "  mean: 0.89479, std: 0.00922, params: {'n_estimators': 130},\n",
       "  mean: 0.89514, std: 0.00983, params: {'n_estimators': 140},\n",
       "  mean: 0.89539, std: 0.01004, params: {'n_estimators': 150},\n",
       "  mean: 0.89557, std: 0.01004, params: {'n_estimators': 160},\n",
       "  mean: 0.89586, std: 0.01028, params: {'n_estimators': 170},\n",
       "  mean: 0.89607, std: 0.01036, params: {'n_estimators': 180},\n",
       "  mean: 0.89672, std: 0.01059, params: {'n_estimators': 190},\n",
       "  mean: 0.89706, std: 0.01079, params: {'n_estimators': 200},\n",
       "  mean: 0.89711, std: 0.01073, params: {'n_estimators': 210},\n",
       "  mean: 0.89740, std: 0.01070, params: {'n_estimators': 220},\n",
       "  mean: 0.89718, std: 0.01094, params: {'n_estimators': 230},\n",
       "  mean: 0.89750, std: 0.01115, params: {'n_estimators': 240},\n",
       "  mean: 0.89753, std: 0.01102, params: {'n_estimators': 250},\n",
       "  mean: 0.89755, std: 0.01109, params: {'n_estimators': 260},\n",
       "  mean: 0.89737, std: 0.01111, params: {'n_estimators': 270},\n",
       "  mean: 0.89765, std: 0.01113, params: {'n_estimators': 280},\n",
       "  mean: 0.89776, std: 0.01104, params: {'n_estimators': 290},\n",
       "  mean: 0.89795, std: 0.01095, params: {'n_estimators': 300},\n",
       "  mean: 0.89790, std: 0.01094, params: {'n_estimators': 310},\n",
       "  mean: 0.89796, std: 0.01096, params: {'n_estimators': 320},\n",
       "  mean: 0.89798, std: 0.01102, params: {'n_estimators': 330},\n",
       "  mean: 0.89799, std: 0.01100, params: {'n_estimators': 340},\n",
       "  mean: 0.89806, std: 0.01102, params: {'n_estimators': 350},\n",
       "  mean: 0.89806, std: 0.01097, params: {'n_estimators': 360},\n",
       "  mean: 0.89809, std: 0.01098, params: {'n_estimators': 370},\n",
       "  mean: 0.89787, std: 0.01100, params: {'n_estimators': 380},\n",
       "  mean: 0.89790, std: 0.01113, params: {'n_estimators': 390},\n",
       "  mean: 0.89785, std: 0.01109, params: {'n_estimators': 400},\n",
       "  mean: 0.89803, std: 0.01107, params: {'n_estimators': 410},\n",
       "  mean: 0.89790, std: 0.01118, params: {'n_estimators': 420},\n",
       "  mean: 0.89789, std: 0.01116, params: {'n_estimators': 430},\n",
       "  mean: 0.89789, std: 0.01125, params: {'n_estimators': 440},\n",
       "  mean: 0.89790, std: 0.01125, params: {'n_estimators': 450},\n",
       "  mean: 0.89795, std: 0.01127, params: {'n_estimators': 460},\n",
       "  mean: 0.89788, std: 0.01118, params: {'n_estimators': 470},\n",
       "  mean: 0.89789, std: 0.01125, params: {'n_estimators': 480},\n",
       "  mean: 0.89791, std: 0.01125, params: {'n_estimators': 490},\n",
       "  mean: 0.89794, std: 0.01132, params: {'n_estimators': 500}],\n",
       " {'n_estimators': 370},\n",
       " 0.8980932214734079)"
      ]
     },
     "execution_count": 54,
     "metadata": {},
     "output_type": "execute_result"
    }
   ],
   "source": [
    "gsearch1.grid_scores_, gsearch1.best_params_, gsearch1.best_score_"
   ]
  },
  {
   "cell_type": "markdown",
   "metadata": {},
   "source": [
    "可以看出来，在学习率为0.1时，理想的决策树数目为370."
   ]
  },
  {
   "cell_type": "markdown",
   "metadata": {},
   "source": [
    "### 第二步，对max_depth和min_child_weight参数调优\n",
    "这两个参数对模型效果影响很大，在前面确定的学习率和理想的决策树数目之后，先对这两个参数进行微调"
   ]
  },
  {
   "cell_type": "code",
   "execution_count": 55,
   "metadata": {
    "collapsed": false
   },
   "outputs": [
    {
     "data": {
      "text/plain": [
       "370"
      ]
     },
     "execution_count": 55,
     "metadata": {},
     "output_type": "execute_result"
    }
   ],
   "source": [
    "gsearch1.best_params_['n_estimators']"
   ]
  },
  {
   "cell_type": "code",
   "execution_count": 56,
   "metadata": {
    "collapsed": false
   },
   "outputs": [
    {
     "data": {
      "text/plain": [
       "([mean: 0.90092, std: 0.00877, params: {'max_depth': 3, 'min_child_weight': 1},\n",
       "  mean: 0.90206, std: 0.00962, params: {'max_depth': 3, 'min_child_weight': 2},\n",
       "  mean: 0.90198, std: 0.00901, params: {'max_depth': 3, 'min_child_weight': 3},\n",
       "  mean: 0.90359, std: 0.01043, params: {'max_depth': 3, 'min_child_weight': 4},\n",
       "  mean: 0.90262, std: 0.01018, params: {'max_depth': 3, 'min_child_weight': 5},\n",
       "  mean: 0.89809, std: 0.01098, params: {'max_depth': 4, 'min_child_weight': 1},\n",
       "  mean: 0.90061, std: 0.01107, params: {'max_depth': 4, 'min_child_weight': 2},\n",
       "  mean: 0.89992, std: 0.00963, params: {'max_depth': 4, 'min_child_weight': 3},\n",
       "  mean: 0.90352, std: 0.00918, params: {'max_depth': 4, 'min_child_weight': 4},\n",
       "  mean: 0.90305, std: 0.01073, params: {'max_depth': 4, 'min_child_weight': 5},\n",
       "  mean: 0.89807, std: 0.00838, params: {'max_depth': 5, 'min_child_weight': 1},\n",
       "  mean: 0.89893, std: 0.00929, params: {'max_depth': 5, 'min_child_weight': 2},\n",
       "  mean: 0.89794, std: 0.01261, params: {'max_depth': 5, 'min_child_weight': 3},\n",
       "  mean: 0.89886, std: 0.00768, params: {'max_depth': 5, 'min_child_weight': 4},\n",
       "  mean: 0.90260, std: 0.01058, params: {'max_depth': 5, 'min_child_weight': 5},\n",
       "  mean: 0.89439, std: 0.01114, params: {'max_depth': 6, 'min_child_weight': 1},\n",
       "  mean: 0.89954, std: 0.00899, params: {'max_depth': 6, 'min_child_weight': 2},\n",
       "  mean: 0.89705, std: 0.01106, params: {'max_depth': 6, 'min_child_weight': 3},\n",
       "  mean: 0.89933, std: 0.00736, params: {'max_depth': 6, 'min_child_weight': 4},\n",
       "  mean: 0.90042, std: 0.01084, params: {'max_depth': 6, 'min_child_weight': 5},\n",
       "  mean: 0.89325, std: 0.00978, params: {'max_depth': 7, 'min_child_weight': 1},\n",
       "  mean: 0.89649, std: 0.00790, params: {'max_depth': 7, 'min_child_weight': 2},\n",
       "  mean: 0.89694, std: 0.00864, params: {'max_depth': 7, 'min_child_weight': 3},\n",
       "  mean: 0.89694, std: 0.00740, params: {'max_depth': 7, 'min_child_weight': 4},\n",
       "  mean: 0.89985, std: 0.01171, params: {'max_depth': 7, 'min_child_weight': 5},\n",
       "  mean: 0.89335, std: 0.01104, params: {'max_depth': 8, 'min_child_weight': 1},\n",
       "  mean: 0.89652, std: 0.01029, params: {'max_depth': 8, 'min_child_weight': 2},\n",
       "  mean: 0.89345, std: 0.00877, params: {'max_depth': 8, 'min_child_weight': 3},\n",
       "  mean: 0.89578, std: 0.01013, params: {'max_depth': 8, 'min_child_weight': 4},\n",
       "  mean: 0.89693, std: 0.01086, params: {'max_depth': 8, 'min_child_weight': 5},\n",
       "  mean: 0.89378, std: 0.01002, params: {'max_depth': 9, 'min_child_weight': 1},\n",
       "  mean: 0.89513, std: 0.00737, params: {'max_depth': 9, 'min_child_weight': 2},\n",
       "  mean: 0.89646, std: 0.01099, params: {'max_depth': 9, 'min_child_weight': 3},\n",
       "  mean: 0.89556, std: 0.00724, params: {'max_depth': 9, 'min_child_weight': 4},\n",
       "  mean: 0.89657, std: 0.01140, params: {'max_depth': 9, 'min_child_weight': 5}],\n",
       " {'max_depth': 3, 'min_child_weight': 4},\n",
       " 0.9035853793838815)"
      ]
     },
     "execution_count": 56,
     "metadata": {},
     "output_type": "execute_result"
    }
   ],
   "source": [
    "param_test2 = {\n",
    "    'max_depth':list(range(3,10,1)),\n",
    "    'min_child_weight':list(range(1,6,1))\n",
    "}\n",
    "\n",
    "gsearch2 = GridSearchCV(estimator=xgb.XGBRegressor( learning_rate=0.1,\n",
    "        n_estimators=gsearch1.best_params_['n_estimators'],\n",
    "        gamma=0,\n",
    "        subsample=0.8,\n",
    "        colsample_bytree=0.8), \n",
    "        param_grid=param_test2, n_jobs=4, iid=False,cv=5)\n",
    "\n",
    "gsearch2.fit(X_train[features], y)\n",
    "gsearch2.grid_scores_, gsearch2.best_params_, gsearch2.best_score_"
   ]
  },
  {
   "cell_type": "markdown",
   "metadata": {},
   "source": [
    "使用GridSearch对给定的参数暴力搜索之后，可以得到理想的树的最大深度为3，min_child_weight理想取值为4。  \n",
    "同时可以看到cv的得分也有了一点点的提升"
   ]
  },
  {
   "cell_type": "markdown",
   "metadata": {},
   "source": [
    "### 第三步，gamma参数调优"
   ]
  },
  {
   "cell_type": "code",
   "execution_count": 59,
   "metadata": {
    "collapsed": false
   },
   "outputs": [
    {
     "data": {
      "text/plain": [
       "([mean: 0.90359, std: 0.01043, params: {'gamma': 0.0},\n",
       "  mean: 0.89774, std: 0.00968, params: {'gamma': 0.1},\n",
       "  mean: 0.88894, std: 0.00996, params: {'gamma': 0.2},\n",
       "  mean: 0.87983, std: 0.00996, params: {'gamma': 0.3},\n",
       "  mean: 0.87410, std: 0.01269, params: {'gamma': 0.4},\n",
       "  mean: 0.86849, std: 0.01066, params: {'gamma': 0.5},\n",
       "  mean: 0.86568, std: 0.01190, params: {'gamma': 0.6},\n",
       "  mean: 0.86353, std: 0.01322, params: {'gamma': 0.7},\n",
       "  mean: 0.85815, std: 0.01469, params: {'gamma': 0.8},\n",
       "  mean: 0.85772, std: 0.01221, params: {'gamma': 0.9}],\n",
       " {'gamma': 0.0},\n",
       " 0.9035853793838815)"
      ]
     },
     "execution_count": 59,
     "metadata": {},
     "output_type": "execute_result"
    }
   ],
   "source": [
    "param_test3 = {'gamma':[i/10.0 for i in range(0,10)]}\n",
    "\n",
    "gsearch3 = GridSearchCV(estimator=xgb.XGBRegressor( learning_rate=0.1,\n",
    "        n_estimators=gsearch1.best_params_['n_estimators'],\n",
    "        max_depth=gsearch2.best_params_['max_depth'],\n",
    "        min_child_weight=gsearch2.best_params_['min_child_weight'],\n",
    "        subsample=0.8,\n",
    "        colsample_bytree=0.8), \n",
    "        param_grid=param_test3, n_jobs=4, iid=False,cv=5)\n",
    "\n",
    "gsearch3.fit(X_train[features], y)\n",
    "gsearch3.grid_scores_, gsearch3.best_params_, gsearch3.best_score_"
   ]
  },
  {
   "cell_type": "markdown",
   "metadata": {},
   "source": [
    "gamma的理想值和开始设置的一样，一个模型的参数相当于和前一个完全一致，所以cv的得分没有变化  \n",
    "\n",
    "\n",
    "#### 在优化了n_eatimators,max_depth,min_child_weight和gamma之后，可以对比看一下部分参数优化之后的模型与刚开始的默认参数模型（baseline model）效果上的区别"
   ]
  },
  {
   "cell_type": "code",
   "execution_count": 60,
   "metadata": {
    "collapsed": false
   },
   "outputs": [
    {
     "name": "stdout",
     "output_type": "stream",
     "text": [
      "\n",
      "Model Report\n",
      "R-Square: 0.98137\n",
      "rmse: 0.05451\n",
      "CV_Score: Mean: 0.9029528 | Std: 0.01330706 | Min: 0.8826236 | Max: 0.9184255\n"
     ]
    },
    {
     "data": {
      "image/png": "[encoded data removed]",
      "text/plain": [
       "<matplotlib.figure.Figure at 0x1adc3b00>"
      ]
     },
     "metadata": {},
     "output_type": "display_data"
    }
   ],
   "source": [
    "xgb2 = xgb.XGBRegressor(learning_rate=0.1,\n",
    "                       n_estimators=370,\n",
    "                       max_depth=3,\n",
    "                       min_child_weight=4,\n",
    "                       gamma=0.0)\n",
    "\n",
    "matplotlib.rcParams['figure.figsize'] = (12,8)\n",
    "modelfit(xgb2, X_train, features, y)"
   ]
  },
  {
   "cell_type": "markdown",
   "metadata": {},
   "source": [
    "和baseline model对比，可以看到R-Square值提高，均方根误差rmse降低，得分提高了，这是好现象。  \n",
    "\n",
    "还有参数可以调优：subsample,colsample_bytree  \n",
    "\n",
    "### 第四步，优化subsample和colsample_bytree参数"
   ]
  },
  {
   "cell_type": "code",
   "execution_count": 62,
   "metadata": {
    "collapsed": false,
    "scrolled": false
   },
   "outputs": [
    {
     "data": {
      "text/plain": [
       "([mean: 0.89889, std: 0.01294, params: {'subsample': 0.6, 'colsample_bytree': 0.6},\n",
       "  mean: 0.90116, std: 0.01698, params: {'colsample_bytree': 0.6, 'subsample': 0.7},\n",
       "  mean: 0.90423, std: 0.00958, params: {'subsample': 0.8, 'colsample_bytree': 0.6},\n",
       "  mean: 0.90467, std: 0.01180, params: {'colsample_bytree': 0.6, 'subsample': 0.9},\n",
       "  mean: 0.89971, std: 0.01195, params: {'subsample': 0.6, 'colsample_bytree': 0.7},\n",
       "  mean: 0.90274, std: 0.01118, params: {'colsample_bytree': 0.7, 'subsample': 0.7},\n",
       "  mean: 0.90317, std: 0.00875, params: {'subsample': 0.8, 'colsample_bytree': 0.7},\n",
       "  mean: 0.90428, std: 0.01139, params: {'colsample_bytree': 0.7, 'subsample': 0.9},\n",
       "  mean: 0.90179, std: 0.01170, params: {'subsample': 0.6, 'colsample_bytree': 0.8},\n",
       "  mean: 0.90071, std: 0.00982, params: {'subsample': 0.7, 'colsample_bytree': 0.8},\n",
       "  mean: 0.90359, std: 0.01043, params: {'subsample': 0.8, 'colsample_bytree': 0.8},\n",
       "  mean: 0.90419, std: 0.01084, params: {'subsample': 0.9, 'colsample_bytree': 0.8},\n",
       "  mean: 0.89986, std: 0.01109, params: {'colsample_bytree': 0.9, 'subsample': 0.6},\n",
       "  mean: 0.90415, std: 0.01081, params: {'subsample': 0.7, 'colsample_bytree': 0.9},\n",
       "  mean: 0.90609, std: 0.00858, params: {'subsample': 0.8, 'colsample_bytree': 0.9},\n",
       "  mean: 0.90395, std: 0.01203, params: {'subsample': 0.9, 'colsample_bytree': 0.9}],\n",
       " {'colsample_bytree': 0.9, 'subsample': 0.8},\n",
       " 0.9060884206579665)"
      ]
     },
     "execution_count": 62,
     "metadata": {},
     "output_type": "execute_result"
    }
   ],
   "source": [
    "param_test4 = {\n",
    "    'subsample':[i/10.0 for i in range(6,10)],\n",
    "    'colsample_bytree':[i/10.0 for i in range(6,10)]\n",
    "}\n",
    "\n",
    "gsearch4 = GridSearchCV(estimator=xgb.XGBRegressor(learning_rate=0.1,\n",
    "        n_estimators=370,\n",
    "        max_depth=3,\n",
    "        min_child_weight=4,\n",
    "        gamma=0.0),\n",
    "        param_grid=param_test4, n_jobs=4, iid=False, cv=5)\n",
    "\n",
    "gsearch4.fit(X_train[features], y)\n",
    "gsearch4.grid_scores_, gsearch4.best_params_, gsearch4.best_score_"
   ]
  },
  {
   "cell_type": "markdown",
   "metadata": {},
   "source": [
    "可以看出subsample的理想取值为0.8，colsample_bytree的理想取值为0.9.  \n",
    "现在以0.05为步长，在理想值附近尝试取值"
   ]
  },
  {
   "cell_type": "code",
   "execution_count": 65,
   "metadata": {
    "collapsed": false
   },
   "outputs": [
    {
     "data": {
      "text/plain": [
       "([mean: 0.90361, std: 0.00904, params: {'subsample': 0.75, 'colsample_bytree': 0.8},\n",
       "  mean: 0.90359, std: 0.01043, params: {'subsample': 0.8, 'colsample_bytree': 0.8},\n",
       "  mean: 0.90466, std: 0.01003, params: {'subsample': 0.85, 'colsample_bytree': 0.8},\n",
       "  mean: 0.90337, std: 0.00808, params: {'subsample': 0.75, 'colsample_bytree': 0.85},\n",
       "  mean: 0.90656, std: 0.01112, params: {'subsample': 0.8, 'colsample_bytree': 0.85},\n",
       "  mean: 0.90244, std: 0.01030, params: {'subsample': 0.85, 'colsample_bytree': 0.85},\n",
       "  mean: 0.90408, std: 0.01289, params: {'subsample': 0.75, 'colsample_bytree': 0.9},\n",
       "  mean: 0.90609, std: 0.00858, params: {'subsample': 0.8, 'colsample_bytree': 0.9},\n",
       "  mean: 0.90439, std: 0.01197, params: {'subsample': 0.85, 'colsample_bytree': 0.9}],\n",
       " {'colsample_bytree': 0.85, 'subsample': 0.8},\n",
       " 0.9065630595743261)"
      ]
     },
     "execution_count": 65,
     "metadata": {},
     "output_type": "execute_result"
    }
   ],
   "source": [
    "param_test5 = {\n",
    "    'subsample':[i/100.0 for i in range(75,90,5)],\n",
    "    'colsample_bytree':[i/100.0 for i in range(80,95,5)]\n",
    "}\n",
    "\n",
    "gsearch5 = GridSearchCV(estimator=xgb.XGBRegressor(learning_rate=0.1,\n",
    "        n_estimators=370,\n",
    "        max_depth=3,\n",
    "        min_child_weight=4,\n",
    "        gamma=0.0),\n",
    "        param_grid=param_test5, n_jobs=4, iid=False, cv=5)\n",
    "\n",
    "gsearch5.fit(X_train[features], y)\n",
    "gsearch5.grid_scores_, gsearch5.best_params_, gsearch5.best_score_"
   ]
  },
  {
   "cell_type": "markdown",
   "metadata": {},
   "source": [
    "经过小范围的微调之后，subsample的取值还是0.8，colsample_bytree的取值变为0.85"
   ]
  },
  {
   "cell_type": "markdown",
   "metadata": {},
   "source": [
    "### 第五步，正则化参数（reg_alpha,reg_lambda）调优\n",
    "一般机器学习的模型会加入正则项以降低过拟合的问题，xgboost中的gamma其实已经提供了有效降低过拟合的方法，这里再展示如何去调优正则化参数。  \n",
    "先优化L1正则化的参数“reg_alpha”"
   ]
  },
  {
   "cell_type": "code",
   "execution_count": 70,
   "metadata": {
    "collapsed": false
   },
   "outputs": [
    {
     "data": {
      "text/plain": [
       "([mean: 0.90657, std: 0.01112, params: {'reg_alpha': 1e-06},\n",
       "  mean: 0.90657, std: 0.01112, params: {'reg_alpha': 1e-05},\n",
       "  mean: 0.90437, std: 0.01046, params: {'reg_alpha': 0.001},\n",
       "  mean: 0.90409, std: 0.01089, params: {'reg_alpha': 0.01},\n",
       "  mean: 0.90229, std: 0.01040, params: {'reg_alpha': 0.1},\n",
       "  mean: 0.90656, std: 0.01112, params: {'reg_alpha': 0},\n",
       "  mean: 0.90367, std: 0.01129, params: {'reg_alpha': 1},\n",
       "  mean: 0.86137, std: 0.02120, params: {'reg_alpha': 10},\n",
       "  mean: 0.55379, std: 0.04570, params: {'reg_alpha': 100}],\n",
       " {'reg_alpha': 1e-05},\n",
       " 0.9065704304962192)"
      ]
     },
     "execution_count": 70,
     "metadata": {},
     "output_type": "execute_result"
    }
   ],
   "source": [
    "param_test6 = {'reg_alpha':[1e-6, 1e-5, 1e-3, 0.01, 0.1, 0, 1, 10, 100]}\n",
    "\n",
    "gsearch6 = GridSearchCV(estimator=xgb.XGBRegressor(learning_rate=0.1,\n",
    "        n_estimators=370,\n",
    "        max_depth=3,\n",
    "        min_child_weight=4,\n",
    "        gamma=0.0,\n",
    "        subsample=0.8,\n",
    "        colsample_bytree=0.85),\n",
    "        param_grid=param_test6, n_jobs=4, iid=False, cv=5)\n",
    "\n",
    "gsearch6.fit(X_train[features], y)\n",
    "gsearch6.grid_scores_, gsearch6.best_params_, gsearch6.best_score_"
   ]
  },
  {
   "cell_type": "markdown",
   "metadata": {},
   "source": [
    "这里求出的reg_alpha的理想值为1e-5,cv得分比没调优前高了一点点   \n",
    "\n",
    "下面调优L2正则化参数“reg_lambda”"
   ]
  },
  {
   "cell_type": "markdown",
   "metadata": {},
   "source": [
    "param_test7 = {'reg_lambda':[1e-5, 1e-3, 0.01, 0.1, 0, 1, 5, 10, 100]}\n",
    "\n",
    "gsearch7 = GridSearchCV(estimator=xgb.XGBRegressor(learning_rate=0.1,\n",
    "        n_estimators=370,\n",
    "        max_depth=3,\n",
    "        min_child_weight=4,\n",
    "        gamma=0.0,\n",
    "        subsample=0.8,\n",
    "        colsample_bytree=0.85,\n",
    "        reg_alpha=1e-5),\n",
    "        param_grid=param_test7, n_jobs=4, iid=False, cv=5)\n",
    "\n",
    "gsearch7.fit(X_train[features], y)\n",
    "gsearch7.grid_scores_, gsearch7.best_params_, gsearch7.best_score_"
   ]
  },
  {
   "cell_type": "markdown",
   "metadata": {},
   "source": [
    "发现reg_lambda最优值还是默认的1，当然还可以在1的附近小范围内尝试取值，这里省略，直接用默认的取值1。"
   ]
  },
  {
   "cell_type": "markdown",
   "metadata": {},
   "source": [
    "### 第六步，优化学习率learning_rate"
   ]
  },
  {
   "cell_type": "code",
   "execution_count": 72,
   "metadata": {
    "collapsed": false
   },
   "outputs": [
    {
     "name": "stdout",
     "output_type": "stream",
     "text": [
      "\n",
      "Model Report\n",
      "R-Square: 0.98866\n",
      "rmse: 0.04253\n",
      "CV_Score: Mean: 0.9093866 | Std: 0.01144901 | Min: 0.8967827 | Max: 0.9251864\n"
     ]
    },
    {
     "data": {
      "image/png": "[encoded data removed]",
      "text/plain": [
       "<matplotlib.figure.Figure at 0x1adf2cf8>"
      ]
     },
     "metadata": {},
     "output_type": "display_data"
    }
   ],
   "source": [
    "#将学习率减小为0.01，同时增加决策树数量\n",
    "xgb3 = xgb.XGBRegressor(learning_rate=0.01,\n",
    "                       n_estimators=5000,\n",
    "                       max_depth=3,\n",
    "                       min_child_weight=4,\n",
    "                       gamma=0.0,\n",
    "                       subsample=0.8,\n",
    "                       colsample_bytree=0.85,\n",
    "                       reg_alpha=1e-5)\n",
    "\n",
    "matplotlib.rcParams['figure.figsize'] = (12,8)\n",
    "modelfit(xgb3, X_train, features, y)"
   ]
  },
  {
   "cell_type": "code",
   "execution_count": 95,
   "metadata": {
    "collapsed": false
   },
   "outputs": [
    {
     "name": "stdout",
     "output_type": "stream",
     "text": [
      "\n",
      "Model Report\n",
      "R-Square: 0.99895\n",
      "rmse: 0.01292\n",
      "CV_Score: Mean: 0.9070256 | Std: 0.01084551 | Min: 0.893893 | Max: 0.9230967\n"
     ]
    },
    {
     "data": {
      "image/png": "[encoded data removed]",
      "text/plain": [
       "<matplotlib.figure.Figure at 0x1b78c780>"
      ]
     },
     "metadata": {},
     "output_type": "display_data"
    }
   ],
   "source": [
    "#将学习率减小为0.03\n",
    "xgb4 = xgb.XGBRegressor(learning_rate=0.03,\n",
    "                       n_estimators=5000,\n",
    "                       max_depth=3,\n",
    "                       min_child_weight=4,\n",
    "                       gamma=0.0,\n",
    "                       subsample=0.8,\n",
    "                       colsample_bytree=0.85,\n",
    "                       reg_alpha=1e-5)\n",
    "\n",
    "matplotlib.rcParams['figure.figsize'] = (12,8)\n",
    "modelfit(xgb4, X_train, features, y)"
   ]
  },
  {
   "cell_type": "markdown",
   "metadata": {},
   "source": [
    "用参数调优后的模型对测试集进行预测\n",
    "--------------------------------------"
   ]
  },
  {
   "cell_type": "code",
   "execution_count": 104,
   "metadata": {
    "collapsed": false
   },
   "outputs": [
    {
     "data": {
      "text/plain": [
       "XGBRegressor(base_score=0.5, booster='gbtree', colsample_bylevel=1,\n",
       "       colsample_bytree=0.85, gamma=0.0, learning_rate=0.003,\n",
       "       max_delta_step=0, max_depth=3, min_child_weight=4, missing=None,\n",
       "       n_estimators=50000, n_jobs=1, nthread=None, objective='reg:linear',\n",
       "       random_state=0, reg_alpha=1e-05, reg_lambda=1, scale_pos_weight=1,\n",
       "       seed=None, silent=True, subsample=0.8)"
      ]
     },
     "execution_count": 104,
     "metadata": {},
     "output_type": "execute_result"
    }
   ],
   "source": [
    "model_xgb = xgb.XGBRegressor(learning_rate=0.003,\n",
    "                       n_estimators=50000,\n",
    "                       max_depth=3,\n",
    "                       min_child_weight=4,\n",
    "                       gamma=0.0,\n",
    "                       subsample=0.8,\n",
    "                       colsample_bytree=0.85,\n",
    "                       reg_alpha=1e-5)\n",
    "model_xgb.fit(X_train, y)"
   ]
  },
  {
   "cell_type": "code",
   "execution_count": 105,
   "metadata": {
    "collapsed": false
   },
   "outputs": [],
   "source": [
    "#预测\n",
    "xgb_predictors = np.expm1(model_xgb.predict(test))"
   ]
  },
  {
   "cell_type": "code",
   "execution_count": 106,
   "metadata": {
    "collapsed": false
   },
   "outputs": [
    {
     "data": {
      "text/html": [
       "<div>\n",
       "<style>\n",
       "    .dataframe thead tr:only-child th {\n",
       "        text-align: right;\n",
       "    }\n",
       "\n",
       "    .dataframe thead th {\n",
       "        text-align: left;\n",
       "    }\n",
       "\n",
       "    .dataframe tbody tr th {\n",
       "        vertical-align: top;\n",
       "    }\n",
       "</style>\n",
       "<table border=\"1\" class=\"dataframe\">\n",
       "  <thead>\n",
       "    <tr style=\"text-align: right;\">\n",
       "      <th></th>\n",
       "      <th>Id</th>\n",
       "      <th>SalePrice</th>\n",
       "    </tr>\n",
       "  </thead>\n",
       "  <tbody>\n",
       "    <tr>\n",
       "      <th>count</th>\n",
       "      <td>1459.000000</td>\n",
       "      <td>1459.000000</td>\n",
       "    </tr>\n",
       "    <tr>\n",
       "      <th>mean</th>\n",
       "      <td>2190.000000</td>\n",
       "      <td>178318.812500</td>\n",
       "    </tr>\n",
       "    <tr>\n",
       "      <th>std</th>\n",
       "      <td>421.321334</td>\n",
       "      <td>77457.367188</td>\n",
       "    </tr>\n",
       "    <tr>\n",
       "      <th>min</th>\n",
       "      <td>1461.000000</td>\n",
       "      <td>37212.519531</td>\n",
       "    </tr>\n",
       "    <tr>\n",
       "      <th>25%</th>\n",
       "      <td>1825.500000</td>\n",
       "      <td>127850.980469</td>\n",
       "    </tr>\n",
       "    <tr>\n",
       "      <th>50%</th>\n",
       "      <td>2190.000000</td>\n",
       "      <td>157654.906250</td>\n",
       "    </tr>\n",
       "    <tr>\n",
       "      <th>75%</th>\n",
       "      <td>2554.500000</td>\n",
       "      <td>209518.562500</td>\n",
       "    </tr>\n",
       "    <tr>\n",
       "      <th>max</th>\n",
       "      <td>2919.000000</td>\n",
       "      <td>570413.687500</td>\n",
       "    </tr>\n",
       "  </tbody>\n",
       "</table>\n",
       "</div>"
      ],
      "text/plain": [
       "                Id      SalePrice\n",
       "count  1459.000000    1459.000000\n",
       "mean   2190.000000  178318.812500\n",
       "std     421.321334   77457.367188\n",
       "min    1461.000000   37212.519531\n",
       "25%    1825.500000  127850.980469\n",
       "50%    2190.000000  157654.906250\n",
       "75%    2554.500000  209518.562500\n",
       "max    2919.000000  570413.687500"
      ]
     },
     "execution_count": 106,
     "metadata": {},
     "output_type": "execute_result"
    }
   ],
   "source": [
    "original_test = pd.read_csv('test.csv')\n",
    "result = pd.DataFrame({'Id':original_test.Id, 'SalePrice':xgb_predictors})\n",
    "result.describe()"
   ]
  },
  {
   "cell_type": "code",
   "execution_count": 107,
   "metadata": {
    "collapsed": true
   },
   "outputs": [],
   "source": [
    "# 保存为csv文件\n",
    "result.to_csv('20171230xgboost.csv')"
   ]
  },
  {
   "cell_type": "markdown",
   "metadata": {},
   "source": [
    "# 总结  \n",
    "仅仅靠参数调优可以给模型带来一些优化，但是很难让模型的效果有质的提高； \n",
    "想要模型表现的更好，往往还依赖其他手段，如feature egineering, ensemble, stacking等。"
   ]
  },
  {
   "cell_type": "code",
   "execution_count": null,
   "metadata": {
    "collapsed": true
   },
   "outputs": [],
   "source": []
  }
 ],
 "metadata": {
  "kernelspec": {
   "display_name": "Python 3",
   "language": "python",
   "name": "python3"
  },
  "language_info": {
   "codemirror_mode": {
    "name": "ipython",
    "version": 3
   },
   "file_extension": ".py",
   "mimetype": "text/x-python",
   "name": "python",
   "nbconvert_exporter": "python",
   "pygments_lexer": "ipython3",
   "version": "3.5.3"
  }
 },
 "nbformat": 4,
 "nbformat_minor": 2
}
